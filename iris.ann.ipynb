{
  "cells": [
    {
      "metadata": {
        "trusted": true
      },
      "cell_type": "code",
      "source": "import pandas as pd\nimport numpy as np\nfrom sklearn.model_selection import train_test_split\nfrom sklearn.metrics import accuracy_score, auc, confusion_matrix, precision_score, recall_score, roc_curve,classification_report\nimport matplotlib.pyplot as plt\nimport seaborn as sns\n",
      "execution_count": 22,
      "outputs": []
    },
    {
      "metadata": {
        "trusted": true
      },
      "cell_type": "code",
      "source": "#!wget https://archive.ics.uci.edu/ml/machine-learning-databases/iris/iris.data",
      "execution_count": 23,
      "outputs": []
    },
    {
      "metadata": {
        "trusted": true
      },
      "cell_type": "code",
      "source": "data = pd.read_csv(\"iris.data\")",
      "execution_count": 24,
      "outputs": []
    },
    {
      "metadata": {
        "trusted": true
      },
      "cell_type": "code",
      "source": "data.head()\n",
      "execution_count": 25,
      "outputs": [
        {
          "output_type": "execute_result",
          "execution_count": 25,
          "data": {
            "text/html": "<div>\n<style scoped>\n    .dataframe tbody tr th:only-of-type {\n        vertical-align: middle;\n    }\n\n    .dataframe tbody tr th {\n        vertical-align: top;\n    }\n\n    .dataframe thead th {\n        text-align: right;\n    }\n</style>\n<table border=\"1\" class=\"dataframe\">\n  <thead>\n    <tr style=\"text-align: right;\">\n      <th></th>\n      <th>5.1</th>\n      <th>3.5</th>\n      <th>1.4</th>\n      <th>0.2</th>\n      <th>Iris-setosa</th>\n    </tr>\n  </thead>\n  <tbody>\n    <tr>\n      <th>0</th>\n      <td>4.9</td>\n      <td>3.0</td>\n      <td>1.4</td>\n      <td>0.2</td>\n      <td>Iris-setosa</td>\n    </tr>\n    <tr>\n      <th>1</th>\n      <td>4.7</td>\n      <td>3.2</td>\n      <td>1.3</td>\n      <td>0.2</td>\n      <td>Iris-setosa</td>\n    </tr>\n    <tr>\n      <th>2</th>\n      <td>4.6</td>\n      <td>3.1</td>\n      <td>1.5</td>\n      <td>0.2</td>\n      <td>Iris-setosa</td>\n    </tr>\n    <tr>\n      <th>3</th>\n      <td>5.0</td>\n      <td>3.6</td>\n      <td>1.4</td>\n      <td>0.2</td>\n      <td>Iris-setosa</td>\n    </tr>\n    <tr>\n      <th>4</th>\n      <td>5.4</td>\n      <td>3.9</td>\n      <td>1.7</td>\n      <td>0.4</td>\n      <td>Iris-setosa</td>\n    </tr>\n  </tbody>\n</table>\n</div>",
            "text/plain": "   5.1  3.5  1.4  0.2  Iris-setosa\n0  4.9  3.0  1.4  0.2  Iris-setosa\n1  4.7  3.2  1.3  0.2  Iris-setosa\n2  4.6  3.1  1.5  0.2  Iris-setosa\n3  5.0  3.6  1.4  0.2  Iris-setosa\n4  5.4  3.9  1.7  0.4  Iris-setosa"
          },
          "metadata": {}
        }
      ]
    },
    {
      "metadata": {
        "trusted": true
      },
      "cell_type": "code",
      "source": "data.columns=['sepal length','sepal width','petal length','petal width','class']",
      "execution_count": 26,
      "outputs": []
    },
    {
      "metadata": {
        "trusted": true
      },
      "cell_type": "code",
      "source": "data.head(3)",
      "execution_count": 27,
      "outputs": [
        {
          "output_type": "execute_result",
          "execution_count": 27,
          "data": {
            "text/html": "<div>\n<style scoped>\n    .dataframe tbody tr th:only-of-type {\n        vertical-align: middle;\n    }\n\n    .dataframe tbody tr th {\n        vertical-align: top;\n    }\n\n    .dataframe thead th {\n        text-align: right;\n    }\n</style>\n<table border=\"1\" class=\"dataframe\">\n  <thead>\n    <tr style=\"text-align: right;\">\n      <th></th>\n      <th>sepal length</th>\n      <th>sepal width</th>\n      <th>petal length</th>\n      <th>petal width</th>\n      <th>class</th>\n    </tr>\n  </thead>\n  <tbody>\n    <tr>\n      <th>0</th>\n      <td>4.9</td>\n      <td>3.0</td>\n      <td>1.4</td>\n      <td>0.2</td>\n      <td>Iris-setosa</td>\n    </tr>\n    <tr>\n      <th>1</th>\n      <td>4.7</td>\n      <td>3.2</td>\n      <td>1.3</td>\n      <td>0.2</td>\n      <td>Iris-setosa</td>\n    </tr>\n    <tr>\n      <th>2</th>\n      <td>4.6</td>\n      <td>3.1</td>\n      <td>1.5</td>\n      <td>0.2</td>\n      <td>Iris-setosa</td>\n    </tr>\n  </tbody>\n</table>\n</div>",
            "text/plain": "   sepal length  sepal width  petal length  petal width        class\n0           4.9          3.0           1.4          0.2  Iris-setosa\n1           4.7          3.2           1.3          0.2  Iris-setosa\n2           4.6          3.1           1.5          0.2  Iris-setosa"
          },
          "metadata": {}
        }
      ]
    },
    {
      "metadata": {
        "trusted": true
      },
      "cell_type": "code",
      "source": "print(data.isnull().sum())\nprint(data.shape)",
      "execution_count": 28,
      "outputs": [
        {
          "output_type": "stream",
          "text": "sepal length    0\nsepal width     0\npetal length    0\npetal width     0\nclass           0\ndtype: int64\n(149, 5)\n",
          "name": "stdout"
        }
      ]
    },
    {
      "metadata": {
        "trusted": true
      },
      "cell_type": "code",
      "source": "data.info()",
      "execution_count": 29,
      "outputs": [
        {
          "output_type": "stream",
          "text": "<class 'pandas.core.frame.DataFrame'>\nRangeIndex: 149 entries, 0 to 148\nData columns (total 5 columns):\nsepal length    149 non-null float64\nsepal width     149 non-null float64\npetal length    149 non-null float64\npetal width     149 non-null float64\nclass           149 non-null object\ndtypes: float64(4), object(1)\nmemory usage: 5.9+ KB\n",
          "name": "stdout"
        }
      ]
    },
    {
      "metadata": {
        "trusted": true
      },
      "cell_type": "code",
      "source": "x = data.iloc[:,0:4]\ny = data['class']",
      "execution_count": 30,
      "outputs": []
    },
    {
      "metadata": {
        "trusted": true
      },
      "cell_type": "code",
      "source": "from sklearn.preprocessing import LabelEncoder\nlabelencoder = LabelEncoder()\ny1 = labelencoder.fit_transform(y)\n\n#y = pd.get_dummies(y1).values",
      "execution_count": 31,
      "outputs": []
    },
    {
      "metadata": {
        "trusted": true
      },
      "cell_type": "code",
      "source": "y = pd.get_dummies(y1).values",
      "execution_count": 32,
      "outputs": []
    },
    {
      "metadata": {
        "trusted": true
      },
      "cell_type": "code",
      "source": "#y",
      "execution_count": 33,
      "outputs": []
    },
    {
      "metadata": {
        "trusted": true
      },
      "cell_type": "code",
      "source": "x_train,x_test,y_train,y_test = train_test_split(x,y,test_size=0.20,random_state=70)\nx_train.shape,x_test.shape,y_train.shape,y_test.shape",
      "execution_count": 34,
      "outputs": [
        {
          "output_type": "execute_result",
          "execution_count": 34,
          "data": {
            "text/plain": "((119, 4), (30, 4), (119, 3), (30, 3))"
          },
          "metadata": {}
        }
      ]
    },
    {
      "metadata": {
        "trusted": true
      },
      "cell_type": "code",
      "source": "",
      "execution_count": null,
      "outputs": []
    },
    {
      "metadata": {
        "trusted": true
      },
      "cell_type": "code",
      "source": "import keras\nfrom keras.models import Sequential\nfrom keras.layers import Dense, Activation",
      "execution_count": 35,
      "outputs": []
    },
    {
      "metadata": {
        "trusted": true
      },
      "cell_type": "code",
      "source": "model = Sequential()\nmodel.add(Dense(4,input_shape=(4,), activation='relu'))\nmodel.add(Dense(4,input_shape=(4,), activation='relu'))",
      "execution_count": 36,
      "outputs": []
    },
    {
      "metadata": {
        "trusted": true
      },
      "cell_type": "code",
      "source": "model.add(Dense(3, activation='softmax'))",
      "execution_count": 37,
      "outputs": []
    },
    {
      "metadata": {
        "trusted": true
      },
      "cell_type": "code",
      "source": "model.compile(loss='categorical_crossentropy',\n              optimizer='Adam',\n              metrics=['accuracy'])",
      "execution_count": 38,
      "outputs": []
    },
    {
      "metadata": {
        "trusted": true
      },
      "cell_type": "code",
      "source": "model.fit(x_train, y_train, batch_size=10, nb_epoch=100)",
      "execution_count": 39,
      "outputs": [
        {
          "output_type": "stream",
          "text": "/home/nbuser/anaconda3_501/lib/python3.6/site-packages/ipykernel/__main__.py:1: UserWarning: The `nb_epoch` argument in `fit` has been renamed `epochs`.\n  if __name__ == '__main__':\n",
          "name": "stderr"
        },
        {
          "output_type": "stream",
          "text": "Epoch 1/100\n119/119 [==============================] - 0s 3ms/step - loss: 1.0238 - accuracy: 0.6807\nEpoch 2/100\n119/119 [==============================] - 0s 235us/step - loss: 1.0087 - accuracy: 0.6807\nEpoch 3/100\n119/119 [==============================] - 0s 222us/step - loss: 0.9962 - accuracy: 0.6807\nEpoch 4/100\n119/119 [==============================] - 0s 276us/step - loss: 0.9715 - accuracy: 0.6807\nEpoch 5/100\n119/119 [==============================] - 0s 201us/step - loss: 0.9150 - accuracy: 0.6807\nEpoch 6/100\n119/119 [==============================] - 0s 199us/step - loss: 0.8727 - accuracy: 0.6807\nEpoch 7/100\n119/119 [==============================] - 0s 191us/step - loss: 0.8481 - accuracy: 0.6807\nEpoch 8/100\n119/119 [==============================] - 0s 184us/step - loss: 0.8286 - accuracy: 0.6807\nEpoch 9/100\n119/119 [==============================] - 0s 211us/step - loss: 0.8054 - accuracy: 0.6807\nEpoch 10/100\n119/119 [==============================] - 0s 215us/step - loss: 0.7868 - accuracy: 0.6807\nEpoch 11/100\n119/119 [==============================] - 0s 198us/step - loss: 0.7667 - accuracy: 0.6807\nEpoch 12/100\n119/119 [==============================] - 0s 195us/step - loss: 0.7485 - accuracy: 0.6807\nEpoch 13/100\n119/119 [==============================] - 0s 192us/step - loss: 0.7324 - accuracy: 0.6807\nEpoch 14/100\n119/119 [==============================] - 0s 233us/step - loss: 0.7145 - accuracy: 0.6807\nEpoch 15/100\n119/119 [==============================] - 0s 211us/step - loss: 0.6974 - accuracy: 0.6807\nEpoch 16/100\n119/119 [==============================] - 0s 228us/step - loss: 0.6813 - accuracy: 0.6807\nEpoch 17/100\n119/119 [==============================] - 0s 196us/step - loss: 0.6662 - accuracy: 0.6807\nEpoch 18/100\n119/119 [==============================] - 0s 194us/step - loss: 0.6509 - accuracy: 0.6807\nEpoch 19/100\n119/119 [==============================] - 0s 205us/step - loss: 0.6374 - accuracy: 0.6807\nEpoch 20/100\n119/119 [==============================] - 0s 193us/step - loss: 0.6234 - accuracy: 0.6807\nEpoch 21/100\n119/119 [==============================] - 0s 187us/step - loss: 0.6095 - accuracy: 0.6807\nEpoch 22/100\n119/119 [==============================] - 0s 224us/step - loss: 0.5974 - accuracy: 0.6807\nEpoch 23/100\n119/119 [==============================] - 0s 232us/step - loss: 0.5843 - accuracy: 0.6807\nEpoch 24/100\n119/119 [==============================] - 0s 210us/step - loss: 0.5729 - accuracy: 0.6807\nEpoch 25/100\n119/119 [==============================] - 0s 180us/step - loss: 0.5606 - accuracy: 0.6807\nEpoch 26/100\n119/119 [==============================] - 0s 196us/step - loss: 0.5494 - accuracy: 0.6807\nEpoch 27/100\n119/119 [==============================] - 0s 254us/step - loss: 0.5397 - accuracy: 0.6807\nEpoch 28/100\n119/119 [==============================] - 0s 206us/step - loss: 0.5279 - accuracy: 0.6807\nEpoch 29/100\n119/119 [==============================] - 0s 214us/step - loss: 0.5178 - accuracy: 0.6807\nEpoch 30/100\n119/119 [==============================] - 0s 189us/step - loss: 0.5072 - accuracy: 0.6891\nEpoch 31/100\n119/119 [==============================] - 0s 214us/step - loss: 0.4974 - accuracy: 0.6891\nEpoch 32/100\n119/119 [==============================] - 0s 301us/step - loss: 0.4877 - accuracy: 0.6975\nEpoch 33/100\n119/119 [==============================] - 0s 187us/step - loss: 0.4781 - accuracy: 0.7059\nEpoch 34/100\n119/119 [==============================] - 0s 218us/step - loss: 0.4689 - accuracy: 0.7311\nEpoch 35/100\n119/119 [==============================] - 0s 344us/step - loss: 0.4598 - accuracy: 0.7311\nEpoch 36/100\n119/119 [==============================] - 0s 215us/step - loss: 0.4512 - accuracy: 0.7479\nEpoch 37/100\n119/119 [==============================] - 0s 188us/step - loss: 0.4422 - accuracy: 0.7311\nEpoch 38/100\n119/119 [==============================] - 0s 208us/step - loss: 0.4318 - accuracy: 0.7479\nEpoch 39/100\n119/119 [==============================] - 0s 202us/step - loss: 0.4230 - accuracy: 0.7983\nEpoch 40/100\n119/119 [==============================] - 0s 216us/step - loss: 0.4145 - accuracy: 0.8487\nEpoch 41/100\n119/119 [==============================] - 0s 195us/step - loss: 0.4063 - accuracy: 0.8739\nEpoch 42/100\n119/119 [==============================] - 0s 186us/step - loss: 0.3993 - accuracy: 0.8151\nEpoch 43/100\n119/119 [==============================] - 0s 246us/step - loss: 0.3895 - accuracy: 0.8824\nEpoch 44/100\n119/119 [==============================] - 0s 211us/step - loss: 0.3805 - accuracy: 0.9412\nEpoch 45/100\n119/119 [==============================] - 0s 207us/step - loss: 0.3680 - accuracy: 0.9160\nEpoch 46/100\n119/119 [==============================] - 0s 210us/step - loss: 0.3504 - accuracy: 0.9580\nEpoch 47/100\n119/119 [==============================] - 0s 280us/step - loss: 0.3339 - accuracy: 0.9832\nEpoch 48/100\n119/119 [==============================] - 0s 408us/step - loss: 0.3213 - accuracy: 0.9412\nEpoch 49/100\n119/119 [==============================] - 0s 225us/step - loss: 0.3101 - accuracy: 0.9748\nEpoch 50/100\n119/119 [==============================] - 0s 209us/step - loss: 0.2992 - accuracy: 0.9748\nEpoch 51/100\n119/119 [==============================] - 0s 217us/step - loss: 0.2892 - accuracy: 0.9748\nEpoch 52/100\n119/119 [==============================] - 0s 210us/step - loss: 0.2800 - accuracy: 0.9748\nEpoch 53/100\n119/119 [==============================] - 0s 198us/step - loss: 0.2704 - accuracy: 0.9832\nEpoch 54/100\n119/119 [==============================] - 0s 240us/step - loss: 0.2626 - accuracy: 0.9832\nEpoch 55/100\n119/119 [==============================] - 0s 232us/step - loss: 0.2552 - accuracy: 0.9748\nEpoch 56/100\n119/119 [==============================] - 0s 219us/step - loss: 0.2449 - accuracy: 0.9832\nEpoch 57/100\n119/119 [==============================] - 0s 199us/step - loss: 0.2393 - accuracy: 0.9832\nEpoch 58/100\n119/119 [==============================] - 0s 250us/step - loss: 0.2304 - accuracy: 0.9832\nEpoch 59/100\n119/119 [==============================] - 0s 208us/step - loss: 0.2243 - accuracy: 0.9832\nEpoch 60/100\n119/119 [==============================] - 0s 206us/step - loss: 0.2195 - accuracy: 0.9832\nEpoch 61/100\n119/119 [==============================] - 0s 551us/step - loss: 0.2113 - accuracy: 0.9832\nEpoch 62/100\n119/119 [==============================] - 0s 286us/step - loss: 0.2054 - accuracy: 0.9832\nEpoch 63/100\n119/119 [==============================] - 0s 195us/step - loss: 0.2014 - accuracy: 0.9832\nEpoch 64/100\n119/119 [==============================] - 0s 264us/step - loss: 0.1953 - accuracy: 0.9832\nEpoch 65/100\n119/119 [==============================] - 0s 203us/step - loss: 0.1888 - accuracy: 0.9832\nEpoch 66/100\n119/119 [==============================] - 0s 211us/step - loss: 0.1841 - accuracy: 0.9832\nEpoch 67/100\n119/119 [==============================] - 0s 187us/step - loss: 0.1800 - accuracy: 0.9832\nEpoch 68/100\n119/119 [==============================] - 0s 204us/step - loss: 0.1754 - accuracy: 0.9916\nEpoch 69/100\n119/119 [==============================] - 0s 298us/step - loss: 0.1710 - accuracy: 0.9832\nEpoch 70/100\n119/119 [==============================] - 0s 233us/step - loss: 0.1655 - accuracy: 0.9832\nEpoch 71/100\n119/119 [==============================] - 0s 422us/step - loss: 0.1643 - accuracy: 0.9832\nEpoch 72/100\n119/119 [==============================] - 0s 336us/step - loss: 0.1604 - accuracy: 0.9832\nEpoch 73/100\n119/119 [==============================] - 0s 225us/step - loss: 0.1549 - accuracy: 0.9832\nEpoch 74/100\n119/119 [==============================] - 0s 242us/step - loss: 0.1512 - accuracy: 0.9832\nEpoch 75/100\n119/119 [==============================] - 0s 321us/step - loss: 0.1489 - accuracy: 0.9832\nEpoch 76/100\n119/119 [==============================] - 0s 413us/step - loss: 0.1469 - accuracy: 0.9916\nEpoch 77/100\n119/119 [==============================] - 0s 292us/step - loss: 0.1400 - accuracy: 0.9832\nEpoch 78/100\n119/119 [==============================] - 0s 271us/step - loss: 0.1386 - accuracy: 0.9832\nEpoch 79/100\n",
          "name": "stdout"
        },
        {
          "output_type": "stream",
          "text": "119/119 [==============================] - 0s 278us/step - loss: 0.1379 - accuracy: 0.9832\nEpoch 80/100\n119/119 [==============================] - 0s 233us/step - loss: 0.1315 - accuracy: 0.9832\nEpoch 81/100\n119/119 [==============================] - 0s 430us/step - loss: 0.1299 - accuracy: 0.9916\nEpoch 82/100\n119/119 [==============================] - 0s 250us/step - loss: 0.1280 - accuracy: 0.9916\nEpoch 83/100\n119/119 [==============================] - 0s 267us/step - loss: 0.1256 - accuracy: 0.9832\nEpoch 84/100\n119/119 [==============================] - 0s 315us/step - loss: 0.1219 - accuracy: 0.9916\nEpoch 85/100\n119/119 [==============================] - 0s 223us/step - loss: 0.1203 - accuracy: 0.9916\nEpoch 86/100\n119/119 [==============================] - 0s 340us/step - loss: 0.1173 - accuracy: 0.9916\nEpoch 87/100\n119/119 [==============================] - 0s 244us/step - loss: 0.1155 - accuracy: 0.9916\nEpoch 88/100\n119/119 [==============================] - 0s 264us/step - loss: 0.1137 - accuracy: 0.9916\nEpoch 89/100\n119/119 [==============================] - 0s 324us/step - loss: 0.1139 - accuracy: 0.9832\nEpoch 90/100\n119/119 [==============================] - 0s 340us/step - loss: 0.1096 - accuracy: 0.9832\nEpoch 91/100\n119/119 [==============================] - 0s 349us/step - loss: 0.1078 - accuracy: 0.9916\nEpoch 92/100\n119/119 [==============================] - 0s 493us/step - loss: 0.1059 - accuracy: 0.9832\nEpoch 93/100\n119/119 [==============================] - 0s 405us/step - loss: 0.1055 - accuracy: 0.9832\nEpoch 94/100\n119/119 [==============================] - 0s 308us/step - loss: 0.1038 - accuracy: 0.9832\nEpoch 95/100\n119/119 [==============================] - 0s 373us/step - loss: 0.1019 - accuracy: 0.9832\nEpoch 96/100\n119/119 [==============================] - 0s 340us/step - loss: 0.1003 - accuracy: 0.9916\nEpoch 97/100\n119/119 [==============================] - 0s 273us/step - loss: 0.1022 - accuracy: 0.9832\nEpoch 98/100\n119/119 [==============================] - 0s 229us/step - loss: 0.0961 - accuracy: 0.9916\nEpoch 99/100\n119/119 [==============================] - 0s 199us/step - loss: 0.0952 - accuracy: 1.0000\nEpoch 100/100\n119/119 [==============================] - 0s 203us/step - loss: 0.0931 - accuracy: 0.9916\n",
          "name": "stdout"
        },
        {
          "output_type": "execute_result",
          "execution_count": 39,
          "data": {
            "text/plain": "<keras.callbacks.callbacks.History at 0x7f9ebf790cf8>"
          },
          "metadata": {}
        }
      ]
    },
    {
      "metadata": {
        "trusted": true
      },
      "cell_type": "code",
      "source": "y_pred = model.predict(x_test)\ny_test_class = np.argmax(y_test, axis=1)\ny_pred_class = np.argmax(y_pred, axis=1)",
      "execution_count": 40,
      "outputs": []
    },
    {
      "metadata": {
        "trusted": true
      },
      "cell_type": "code",
      "source": "print(classification_report(y_test_class,y_pred_class))\nprint(confusion_matrix(y_test_class,y_pred_class))",
      "execution_count": 41,
      "outputs": [
        {
          "output_type": "stream",
          "text": "              precision    recall  f1-score   support\n\n           0       1.00      1.00      1.00         9\n           1       1.00      0.83      0.91        12\n           2       0.82      1.00      0.90         9\n\n   micro avg       0.93      0.93      0.93        30\n   macro avg       0.94      0.94      0.94        30\nweighted avg       0.95      0.93      0.93        30\n\n[[ 9  0  0]\n [ 0 10  2]\n [ 0  0  9]]\n",
          "name": "stdout"
        }
      ]
    },
    {
      "metadata": {
        "trusted": true
      },
      "cell_type": "code",
      "source": "(28)/30",
      "execution_count": 42,
      "outputs": [
        {
          "output_type": "execute_result",
          "execution_count": 42,
          "data": {
            "text/plain": "0.9333333333333333"
          },
          "metadata": {}
        }
      ]
    },
    {
      "metadata": {
        "trusted": true
      },
      "cell_type": "code",
      "source": "",
      "execution_count": null,
      "outputs": []
    },
    {
      "metadata": {
        "trusted": true
      },
      "cell_type": "code",
      "source": "",
      "execution_count": null,
      "outputs": []
    }
  ],
  "metadata": {
    "kernelspec": {
      "name": "python36",
      "display_name": "Python 3.6",
      "language": "python"
    },
    "language_info": {
      "mimetype": "text/x-python",
      "nbconvert_exporter": "python",
      "name": "python",
      "pygments_lexer": "ipython3",
      "version": "3.6.6",
      "file_extension": ".py",
      "codemirror_mode": {
        "version": 3,
        "name": "ipython"
      }
    }
  },
  "nbformat": 4,
  "nbformat_minor": 2
}